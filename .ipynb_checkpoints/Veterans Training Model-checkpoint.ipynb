{
 "cells": [
  {
   "cell_type": "code",
   "execution_count": 1,
   "id": "5f856b3d",
   "metadata": {},
   "outputs": [
    {
     "name": "stderr",
     "output_type": "stream",
     "text": [
      "C:\\Users\\bud_1\\anaconda3\\lib\\site-packages\\numpy\\_distributor_init.py:30: UserWarning: loaded more than 1 DLL from .libs:\n",
      "C:\\Users\\bud_1\\anaconda3\\lib\\site-packages\\numpy\\.libs\\libopenblas.EL2C6PLE4ZYW3ECEVIV3OXXGRN2NRFM2.gfortran-win_amd64.dll\n",
      "C:\\Users\\bud_1\\anaconda3\\lib\\site-packages\\numpy\\.libs\\libopenblas.QVLO2T66WEPI7JZ63PS3HMOHFEY472BC.gfortran-win_amd64.dll\n",
      "  warnings.warn(\"loaded more than 1 DLL from .libs:\"\n"
     ]
    },
    {
     "name": "stdout",
     "output_type": "stream",
     "text": [
      "R-squared score on the entire dataset: 1.0\n"
     ]
    }
   ],
   "source": [
    "import pandas as pd\n",
    "from sklearn.linear_model import LinearRegression\n",
    "\n",
    "# Load the dataset\n",
    "data = pd.read_csv('updated_combined_cleaned.csv')\n",
    "\n",
    "# Select the features and target variables\n",
    "features = ['2005_all_suicides', '2006_all_suicides', '2007_all_suicides',\n",
    "            '2008_all_suicides', '2009_all_suicides', '2010_all_suicides', \n",
    "            '2011_all_suicides']\n",
    "target = ['2012_all_suicides', '2013_all_suicides']\n",
    "\n",
    "# Split the features and target variables\n",
    "X = data[features]\n",
    "y = data[target]\n",
    "\n",
    "# Create a Linear Regression model\n",
    "lr_model = LinearRegression()\n",
    "\n",
    "# Train the model on the entire dataset\n",
    "lr_model.fit(X, y)\n",
    "\n",
    "# Make predictions on a new dataset with the same features\n",
    "new_data = pd.DataFrame(columns=features)\n",
    "new_data.loc[0] = [100, 200, 300, 400, 500, 600, 700]  # example values for the features\n",
    "predictions = lr_model.predict(new_data)\n",
    "\n",
    "# Add the predictions to the new dataset\n",
    "new_data['predicted_2012_all_suicides'] = predictions[:,0]\n",
    "new_data['predicted_2013_all_suicides'] = predictions[:,1]\n",
    "\n",
    "# Save the new dataset as a CSV file\n",
    "new_data.to_csv('predicted_all_suicides.csv', index=False)\n",
    "\n",
    "# Print the model's performance on the entire dataset\n",
    "print(\"R-squared score on the entire dataset:\", lr_model.score(X, y))\n"
   ]
  },
  {
   "cell_type": "code",
   "execution_count": 1,
   "id": "5722b436",
   "metadata": {},
   "outputs": [
    {
     "name": "stderr",
     "output_type": "stream",
     "text": [
      "C:\\Users\\bud_1\\anaconda3\\lib\\site-packages\\numpy\\_distributor_init.py:30: UserWarning: loaded more than 1 DLL from .libs:\n",
      "C:\\Users\\bud_1\\anaconda3\\lib\\site-packages\\numpy\\.libs\\libopenblas.EL2C6PLE4ZYW3ECEVIV3OXXGRN2NRFM2.gfortran-win_amd64.dll\n",
      "C:\\Users\\bud_1\\anaconda3\\lib\\site-packages\\numpy\\.libs\\libopenblas.QVLO2T66WEPI7JZ63PS3HMOHFEY472BC.gfortran-win_amd64.dll\n",
      "  warnings.warn(\"loaded more than 1 DLL from .libs:\"\n"
     ]
    },
    {
     "name": "stdout",
     "output_type": "stream",
     "text": [
      "R-squared score on testing data: 1.0\n"
     ]
    }
   ],
   "source": [
    "import pandas as pd\n",
    "from sklearn.model_selection import train_test_split\n",
    "from sklearn.linear_model import LinearRegression\n",
    "\n",
    "# Load the dataset\n",
    "data = pd.read_csv('updated_combined_cleaned.csv')\n",
    "\n",
    "# Split the dataset into training and testing sets\n",
    "train_data, test_data = train_test_split(data, test_size=0.2, random_state=42)\n",
    "\n",
    "# Select the features and target variables\n",
    "features = ['2005_all_suicides', '2006_all_suicides', '2007_all_suicides',\n",
    "            '2008_all_suicides', '2009_all_suicides', '2010_all_suicides', \n",
    "            '2011_all_suicides']\n",
    "target = ['2012_all_suicides', '2013_all_suicides']\n",
    "\n",
    "# Split the features and target variables for training and testing sets\n",
    "X_train = train_data[features]\n",
    "X_test = test_data[features]\n",
    "y_train = train_data[target]\n",
    "y_test = test_data[target]\n",
    "\n",
    "# Create a Linear Regression model\n",
    "lr_model = LinearRegression()\n",
    "\n",
    "# Train the model on the training data\n",
    "lr_model.fit(X_train, y_train)\n",
    "\n",
    "# Make predictions on the testing data\n",
    "y_pred = lr_model.predict(X_test)\n",
    "\n",
    "# Create a new dataframe with the predicted values for 2012_all_suicides and 2013_all_suicides\n",
    "new_data = test_data.copy()\n",
    "new_data['predicted_2012_all_suicides'] = y_pred[:,0]\n",
    "new_data['predicted_2013_all_suicides'] = y_pred[:,1]\n",
    "\n",
    "# Save the new dataframe as a CSV file\n",
    "new_data.to_csv('predicted_all_suicides.csv', index=False)\n",
    "\n",
    "# Print the model's performance on the testing data\n",
    "print(\"R-squared score on testing data:\", lr_model.score(X_test, y_test))\n"
   ]
  },
  {
   "cell_type": "code",
   "execution_count": null,
   "id": "621b1d04",
   "metadata": {},
   "outputs": [],
   "source": []
  }
 ],
 "metadata": {
  "kernelspec": {
   "display_name": "Python 3 (ipykernel)",
   "language": "python",
   "name": "python3"
  },
  "language_info": {
   "codemirror_mode": {
    "name": "ipython",
    "version": 3
   },
   "file_extension": ".py",
   "mimetype": "text/x-python",
   "name": "python",
   "nbconvert_exporter": "python",
   "pygments_lexer": "ipython3",
   "version": "3.9.12"
  }
 },
 "nbformat": 4,
 "nbformat_minor": 5
}
