{
 "cells": [
  {
   "cell_type": "code",
   "execution_count": 1,
   "id": "8f7fa4e8",
   "metadata": {},
   "outputs": [
    {
     "name": "stderr",
     "output_type": "stream",
     "text": [
      "C:\\Users\\bud_1\\anaconda3\\lib\\site-packages\\numpy\\_distributor_init.py:30: UserWarning: loaded more than 1 DLL from .libs:\n",
      "C:\\Users\\bud_1\\anaconda3\\lib\\site-packages\\numpy\\.libs\\libopenblas.EL2C6PLE4ZYW3ECEVIV3OXXGRN2NRFM2.gfortran-win_amd64.dll\n",
      "C:\\Users\\bud_1\\anaconda3\\lib\\site-packages\\numpy\\.libs\\libopenblas.QVLO2T66WEPI7JZ63PS3HMOHFEY472BC.gfortran-win_amd64.dll\n",
      "  warnings.warn(\"loaded more than 1 DLL from .libs:\"\n"
     ]
    },
    {
     "name": "stdout",
     "output_type": "stream",
     "text": [
      "                   2005_vet_suicides  2006_vet_suicides  2007_vet_suicides  \\\n",
      "2005_vet_suicides           1.000000           0.987864           0.990682   \n",
      "2006_vet_suicides           0.987864           1.000000           0.987337   \n",
      "2007_vet_suicides           0.990682           0.987337           1.000000   \n",
      "2008_vet_suicides           0.986940           0.987817           0.991828   \n",
      "2009_vet_suicides           0.982984           0.979530           0.990759   \n",
      "2010_vet_suicides           0.984479           0.986132           0.984123   \n",
      "2011_vet_suicides           0.982701           0.982009           0.985426   \n",
      "\n",
      "                   2008_vet_suicides  2009_vet_suicides  2010_vet_suicides  \\\n",
      "2005_vet_suicides           0.986940           0.982984           0.984479   \n",
      "2006_vet_suicides           0.987817           0.979530           0.986132   \n",
      "2007_vet_suicides           0.991828           0.990759           0.984123   \n",
      "2008_vet_suicides           1.000000           0.991209           0.989188   \n",
      "2009_vet_suicides           0.991209           1.000000           0.989702   \n",
      "2010_vet_suicides           0.989188           0.989702           1.000000   \n",
      "2011_vet_suicides           0.988866           0.992103           0.995913   \n",
      "\n",
      "                   2011_vet_suicides  \n",
      "2005_vet_suicides           0.982701  \n",
      "2006_vet_suicides           0.982009  \n",
      "2007_vet_suicides           0.985426  \n",
      "2008_vet_suicides           0.988866  \n",
      "2009_vet_suicides           0.992103  \n",
      "2010_vet_suicides           0.995913  \n",
      "2011_vet_suicides           1.000000  \n"
     ]
    }
   ],
   "source": [
    "import pandas as pd\n",
    "\n",
    "# Load CSV file\n",
    "df = pd.read_csv('combined_cleaned.csv')\n",
    "\n",
    "# Select columns of interest\n",
    "cols_of_interest = ['2005_vet_suicides', '2006_vet_suicides', '2007_vet_suicides',\n",
    "                    '2008_vet_suicides', '2009_vet_suicides', '2010_vet_suicides', '2011_vet_suicides']\n",
    "subset_df = df[cols_of_interest]\n",
    "\n",
    "# Calculate correlation matrix\n",
    "corr_matrix = subset_df.corr()\n",
    "\n",
    "# Display correlation matrix\n",
    "print(corr_matrix)\n"
   ]
  },
  {
   "cell_type": "code",
   "execution_count": 2,
   "id": "8248bbb4",
   "metadata": {},
   "outputs": [
    {
     "name": "stdout",
     "output_type": "stream",
     "text": [
      "                   2005_all_suicides  2006_all_suicides  2007_all_suicides  \\\n",
      "2005_all_suicides           1.000000           0.997912           0.997056   \n",
      "2006_all_suicides           0.997912           1.000000           0.998556   \n",
      "2007_all_suicides           0.997056           0.998556           1.000000   \n",
      "2008_all_suicides           0.997466           0.998240           0.998748   \n",
      "2009_all_suicides           0.995570           0.995364           0.996814   \n",
      "2010_all_suicides           0.997406           0.997730           0.998135   \n",
      "2011_all_suicides           0.996096           0.996696           0.997778   \n",
      "\n",
      "                   2008_all_suicides  2009_all_suicides  2010_all_suicides  \\\n",
      "2005_all_suicides           0.997466           0.995570           0.997406   \n",
      "2006_all_suicides           0.998240           0.995364           0.997730   \n",
      "2007_all_suicides           0.998748           0.996814           0.998135   \n",
      "2008_all_suicides           1.000000           0.996200           0.997601   \n",
      "2009_all_suicides           0.996200           1.000000           0.997366   \n",
      "2010_all_suicides           0.997601           0.997366           1.000000   \n",
      "2011_all_suicides           0.996829           0.998390           0.999385   \n",
      "\n",
      "                   2011_all_suicides  \n",
      "2005_all_suicides           0.996096  \n",
      "2006_all_suicides           0.996696  \n",
      "2007_all_suicides           0.997778  \n",
      "2008_all_suicides           0.996829  \n",
      "2009_all_suicides           0.998390  \n",
      "2010_all_suicides           0.999385  \n",
      "2011_all_suicides           1.000000  \n"
     ]
    }
   ],
   "source": [
    "# Select columns of interest\n",
    "cols_of_interest_2 = ['2005_all_suicides', '2006_all_suicides', '2007_all_suicides',\n",
    "                      '2008_all_suicides', '2009_all_suicides', '2010_all_suicides',\n",
    "                      '2011_all_suicides']\n",
    "subset_df2 = df[cols_of_interest_2]\n",
    "\n",
    "# Calculate correlation matrix\n",
    "corr_matrix = subset_df2.corr()\n",
    "\n",
    "# Display correlation matrix\n",
    "print(corr_matrix)"
   ]
  },
  {
   "cell_type": "code",
   "execution_count": 3,
   "id": "0e8afebe",
   "metadata": {
    "scrolled": true
   },
   "outputs": [
    {
     "name": "stdout",
     "output_type": "stream",
     "text": [
      "                   2005_vet_suicides  2006_vet_suicides  2007_vet_suicides  \\\n",
      "2005_vet_suicides           1.000000           0.987864           0.990682   \n",
      "2006_vet_suicides           0.987864           1.000000           0.987337   \n",
      "2007_vet_suicides           0.990682           0.987337           1.000000   \n",
      "2008_vet_suicides           0.986940           0.987817           0.991828   \n",
      "2009_vet_suicides           0.982984           0.979530           0.990759   \n",
      "2010_vet_suicides           0.984479           0.986132           0.984123   \n",
      "2011_vet_suicides           0.982701           0.982009           0.985426   \n",
      "2005_all_suicides           0.983776           0.975232           0.974691   \n",
      "2006_all_suicides           0.978913           0.975908           0.973561   \n",
      "2007_all_suicides           0.977151           0.974892           0.973795   \n",
      "2008_all_suicides           0.978373           0.976331           0.974516   \n",
      "2009_all_suicides           0.980808           0.975500           0.975705   \n",
      "2010_all_suicides           0.977122           0.973193           0.970704   \n",
      "2011_all_suicides           0.976043           0.972874           0.969902   \n",
      "\n",
      "                   2008_vet_suicides  2009_vet_suicides  2010_vet_suicides  \\\n",
      "2005_vet_suicides           0.986940           0.982984           0.984479   \n",
      "2006_vet_suicides           0.987817           0.979530           0.986132   \n",
      "2007_vet_suicides           0.991828           0.990759           0.984123   \n",
      "2008_vet_suicides           1.000000           0.991209           0.989188   \n",
      "2009_vet_suicides           0.991209           1.000000           0.989702   \n",
      "2010_vet_suicides           0.989188           0.989702           1.000000   \n",
      "2011_vet_suicides           0.988866           0.992103           0.995913   \n",
      "2005_all_suicides           0.978425           0.974531           0.981511   \n",
      "2006_all_suicides           0.978989           0.975053           0.981537   \n",
      "2007_all_suicides           0.979050           0.975913           0.981925   \n",
      "2008_all_suicides           0.980887           0.975718           0.981968   \n",
      "2009_all_suicides           0.981102           0.980824           0.984020   \n",
      "2010_all_suicides           0.975252           0.973024           0.981501   \n",
      "2011_all_suicides           0.975511           0.973730           0.981173   \n",
      "\n",
      "                   2011_vet_suicides  2005_all_suicides  2006_all_suicides  \\\n",
      "2005_vet_suicides           0.982701           0.983776           0.978913   \n",
      "2006_vet_suicides           0.982009           0.975232           0.975908   \n",
      "2007_vet_suicides           0.985426           0.974691           0.973561   \n",
      "2008_vet_suicides           0.988866           0.978425           0.978989   \n",
      "2009_vet_suicides           0.992103           0.974531           0.975053   \n",
      "2010_vet_suicides           0.995913           0.981511           0.981537   \n",
      "2011_vet_suicides           1.000000           0.983677           0.984965   \n",
      "2005_all_suicides           0.983677           1.000000           0.997912   \n",
      "2006_all_suicides           0.984965           0.997912           1.000000   \n",
      "2007_all_suicides           0.984634           0.997056           0.998556   \n",
      "2008_all_suicides           0.984396           0.997466           0.998240   \n",
      "2009_all_suicides           0.986974           0.995570           0.995364   \n",
      "2010_all_suicides           0.984064           0.997406           0.997730   \n",
      "2011_all_suicides           0.984027           0.996096           0.996696   \n",
      "\n",
      "                   2007_all_suicides  2008_all_suicides  2009_all_suicides  \\\n",
      "2005_vet_suicides           0.977151           0.978373           0.980808   \n",
      "2006_vet_suicides           0.974892           0.976331           0.975500   \n",
      "2007_vet_suicides           0.973795           0.974516           0.975705   \n",
      "2008_vet_suicides           0.979050           0.980887           0.981102   \n",
      "2009_vet_suicides           0.975913           0.975718           0.980824   \n",
      "2010_vet_suicides           0.981925           0.981968           0.984020   \n",
      "2011_vet_suicides           0.984634           0.984396           0.986974   \n",
      "2005_all_suicides           0.997056           0.997466           0.995570   \n",
      "2006_all_suicides           0.998556           0.998240           0.995364   \n",
      "2007_all_suicides           1.000000           0.998748           0.996814   \n",
      "2008_all_suicides           0.998748           1.000000           0.996200   \n",
      "2009_all_suicides           0.996814           0.996200           1.000000   \n",
      "2010_all_suicides           0.998135           0.997601           0.997366   \n",
      "2011_all_suicides           0.997778           0.996829           0.998390   \n",
      "\n",
      "                   2010_all_suicides  2011_all_suicides  \n",
      "2005_vet_suicides           0.977122           0.976043  \n",
      "2006_vet_suicides           0.973193           0.972874  \n",
      "2007_vet_suicides           0.970704           0.969902  \n",
      "2008_vet_suicides           0.975252           0.975511  \n",
      "2009_vet_suicides           0.973024           0.973730  \n",
      "2010_vet_suicides           0.981501           0.981173  \n",
      "2011_vet_suicides           0.984064           0.984027  \n",
      "2005_all_suicides           0.997406           0.996096  \n",
      "2006_all_suicides           0.997730           0.996696  \n",
      "2007_all_suicides           0.998135           0.997778  \n",
      "2008_all_suicides           0.997601           0.996829  \n",
      "2009_all_suicides           0.997366           0.998390  \n",
      "2010_all_suicides           1.000000           0.999385  \n",
      "2011_all_suicides           0.999385           1.000000  \n"
     ]
    }
   ],
   "source": [
    "# Select columns of interest\n",
    "combined_subset_df = df[cols_of_interest + cols_of_interest_2]\n",
    "\n",
    "# Calculate correlation matrix\n",
    "combined_corr_matrix = combined_subset_df.corr()\n",
    "\n",
    "# Display correlation matrix\n",
    "print(combined_corr_matrix)"
   ]
  },
  {
   "cell_type": "code",
   "execution_count": 4,
   "id": "e491d482",
   "metadata": {},
   "outputs": [
    {
     "name": "stdout",
     "output_type": "stream",
     "text": [
      "R^2 score: 1.0\n",
      "Mean Squared Error: 0.0\n",
      "Mean Absolute Error: 0.0\n"
     ]
    }
   ],
   "source": [
    "import pandas as pd\n",
    "from sklearn.model_selection import train_test_split\n",
    "from sklearn.linear_model import LinearRegression\n",
    "from sklearn.metrics import mean_squared_error, mean_absolute_error\n",
    "\n",
    "# Load the data into a pandas DataFrame\n",
    "df = pd.read_csv('updated_combined_cleaned.csv')\n",
    "\n",
    "# Split the data into training and testing sets\n",
    "train_df, test_df = train_test_split(df, test_size=0.2, random_state=42)\n",
    "\n",
    "# Define the features and target variables\n",
    "features = ['2005_vet_suicides', '2006_vet_suicides', '2007_vet_suicides', '2008_vet_suicides', '2009_vet_suicides', '2010_vet_suicides']\n",
    "targets = ['2012_vet_suicides', '2013_vet_suicides']\n",
    "\n",
    "# Train a machine learning model on the training data\n",
    "model = LinearRegression()\n",
    "model.fit(train_df[features], train_df[targets])\n",
    "\n",
    "# Evaluate the performance of the model on the testing data\n",
    "score = model.score(test_df[features], test_df[targets])\n",
    "print(f\"R^2 score: {score}\")\n",
    "\n",
    "# Make predictions on the testing data\n",
    "predictions = model.predict(test_df[features])\n",
    "\n",
    "# Calculate mean squared error and mean absolute error\n",
    "mse = mean_squared_error(test_df[targets], predictions)\n",
    "mae = mean_absolute_error(test_df[targets], predictions)\n",
    "print(f\"Mean Squared Error: {mse}\")\n",
    "print(f\"Mean Absolute Error: {mae}\")\n",
    "\n",
    "\n"
   ]
  },
  {
   "cell_type": "code",
   "execution_count": 5,
   "id": "c0a9efbe",
   "metadata": {},
   "outputs": [
    {
     "name": "stdout",
     "output_type": "stream",
     "text": [
      "0    30\n",
      "1    17\n",
      "2     3\n",
      "Name: Cluster, dtype: int64\n"
     ]
    },
    {
     "data": {
      "image/png": "[encoded data removed]",
      "text/plain": [
       "<Figure size 432x288 with 1 Axes>"
      ]
     },
     "metadata": {
      "needs_background": "light"
     },
     "output_type": "display_data"
    }
   ],
   "source": [
    "import pandas as pd\n",
    "from sklearn.cluster import KMeans\n",
    "from sklearn.preprocessing import StandardScaler\n",
    "import matplotlib.pyplot as plt\n",
    "\n",
    "# Load the data into a pandas DataFrame\n",
    "df = pd.read_csv('updated_combined_cleaned.csv')\n",
    "\n",
    "# Normalize the data\n",
    "scaler = StandardScaler()\n",
    "normalized_data = scaler.fit_transform(df[['2005_vet_suicides', '2006_vet_suicides', '2007_vet_suicides', '2008_vet_suicides', '2009_vet_suicides', '2010_vet_suicides']])\n",
    "\n",
    "# Perform K-means clustering with 3 clusters\n",
    "kmeans = KMeans(n_clusters=3, random_state=42)\n",
    "kmeans.fit(normalized_data)\n",
    "\n",
    "# Get the cluster labels for each data point\n",
    "labels = kmeans.labels_\n",
    "\n",
    "# Add the cluster labels to the original DataFrame\n",
    "df['Cluster'] = labels\n",
    "\n",
    "# View the number of data points in each cluster\n",
    "print(df['Cluster'].value_counts())\n",
    "\n",
    "# Create a scatter plot of the clusters\n",
    "plt.scatter(df['2005_vet_suicides'], df['2010_vet_suicides'], c=df['Cluster'])\n",
    "plt.xlabel('2005 Vet Suicides')\n",
    "plt.ylabel('2010 Vet Suicides')\n",
    "plt.show()\n",
    "\n"
   ]
  },
  {
   "cell_type": "code",
   "execution_count": null,
   "id": "a83449f7",
   "metadata": {},
   "outputs": [],
   "source": []
  }
 ],
 "metadata": {
  "kernelspec": {
   "display_name": "Python 3 (ipykernel)",
   "language": "python",
   "name": "python3"
  },
  "language_info": {
   "codemirror_mode": {
    "name": "ipython",
    "version": 3
   },
   "file_extension": ".py",
   "mimetype": "text/x-python",
   "name": "python",
   "nbconvert_exporter": "python",
   "pygments_lexer": "ipython3",
   "version": "3.9.12"
  }
 },
 "nbformat": 4,
 "nbformat_minor": 5
}
