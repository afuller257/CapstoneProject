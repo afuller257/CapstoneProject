{
 "cells": [
  {
   "cell_type": "code",
   "execution_count": 1,
   "id": "5722b436",
   "metadata": {},
   "outputs": [
    {
     "name": "stderr",
     "output_type": "stream",
     "text": [
      "C:\\Users\\bud_1\\anaconda3\\lib\\site-packages\\numpy\\_distributor_init.py:30: UserWarning: loaded more than 1 DLL from .libs:\n",
      "C:\\Users\\bud_1\\anaconda3\\lib\\site-packages\\numpy\\.libs\\libopenblas.EL2C6PLE4ZYW3ECEVIV3OXXGRN2NRFM2.gfortran-win_amd64.dll\n",
      "C:\\Users\\bud_1\\anaconda3\\lib\\site-packages\\numpy\\.libs\\libopenblas.QVLO2T66WEPI7JZ63PS3HMOHFEY472BC.gfortran-win_amd64.dll\n",
      "  warnings.warn(\"loaded more than 1 DLL from .libs:\"\n"
     ]
    },
    {
     "name": "stdout",
     "output_type": "stream",
     "text": [
      "R-squared score on testing data: 1.0\n",
      "LinearRegression()\n",
      "Predicted values:\n",
      "[[0. 0.]\n",
      " [0. 0.]\n",
      " [0. 0.]\n",
      " [0. 0.]\n",
      " [0. 0.]\n",
      " [0. 0.]\n",
      " [0. 0.]\n",
      " [0. 0.]\n",
      " [0. 0.]\n",
      " [0. 0.]]\n",
      "Actual values:\n",
      "    2012_all_suicides  2013_all_suicides\n",
      "12                  0                  0\n",
      "4                   0                  0\n",
      "37                  0                  0\n",
      "8                   0                  0\n",
      "3                   0                  0\n",
      "6                   0                  0\n",
      "41                  0                  0\n",
      "46                  0                  0\n",
      "47                  0                  0\n",
      "15                  0                  0\n"
     ]
    }
   ],
   "source": [
    "import pandas as pd\n",
    "from sklearn.model_selection import train_test_split\n",
    "from sklearn.linear_model import LinearRegression\n",
    "import matplotlib.pyplot as plt\n",
    "import seaborn as sns\n",
    "\n",
    "# Load the dataset\n",
    "data = pd.read_csv('updated_combined_cleaned.csv')\n",
    "\n",
    "# Split the dataset into training and testing sets\n",
    "train_data, test_data = train_test_split(data, test_size=0.2, random_state=42)\n",
    "\n",
    "# Select the features and target variables\n",
    "features = ['2005_all_suicides', '2006_all_suicides', '2007_all_suicides',\n",
    "            '2008_all_suicides', '2009_all_suicides', '2010_all_suicides', \n",
    "            '2011_all_suicides']\n",
    "target = ['2012_all_suicides', '2013_all_suicides']\n",
    "\n",
    "# Split the features and target variables for training and testing sets\n",
    "X_train = train_data[features]\n",
    "X_test = test_data[features]\n",
    "y_train = train_data[target]\n",
    "y_test = test_data[target]\n",
    "\n",
    "# Create a Linear Regression model\n",
    "lr_model = LinearRegression()\n",
    "\n",
    "# Train the model on the training data\n",
    "lr_model.fit(X_train, y_train)\n",
    "\n",
    "# Make predictions on the testing data\n",
    "y_pred = lr_model.predict(X_test)\n",
    "\n",
    "# Create a new dataframe with the predicted values for 2012_all_suicides and 2013_all_suicides\n",
    "new_data = test_data.copy()\n",
    "new_data['predicted_2012_all_suicides'] = y_pred[:,0]\n",
    "new_data['predicted_2013_all_suicides'] = y_pred[:,1]\n",
    "\n",
    "# Save the new dataframe as a CSV file\n",
    "new_data.to_csv('predicted_all_suicides.csv', index=False)\n",
    "\n",
    "# Print the model's performance on the testing data\n",
    "print(\"R-squared score on testing data:\", lr_model.score(X_test, y_test))\n",
    "# Print the trained model\n",
    "print(lr_model)\n",
    "\n",
    "# Make predictions on the training data\n",
    "y_train_pred = lr_model.predict(X_train)\n",
    "\n",
    "# Make predictions on the training data\n",
    "y_train_pred = lr_model.predict(X_train)\n",
    "\n",
    "# Print the predicted and actual values of the first 10 rows of the target variable\n",
    "print(\"Predicted values:\")\n",
    "print(y_train_pred[:10])\n",
    "print(\"Actual values:\")\n",
    "print(y_train.iloc[:10])\n",
    "\n",
    "\n"
   ]
  },
  {
   "cell_type": "code",
   "execution_count": 2,
   "id": "0b8acca4",
   "metadata": {},
   "outputs": [
    {
     "name": "stdout",
     "output_type": "stream",
     "text": [
      "LinearRegression()\n"
     ]
    }
   ],
   "source": [
    "# Create a Linear Regression model\n",
    "lr_model = LinearRegression()\n",
    "\n",
    "# Train the model on the training data\n",
    "lr_model.fit(X_train, y_train)\n",
    "\n",
    "# Print the trained model\n",
    "print(lr_model)\n"
   ]
  },
  {
   "cell_type": "code",
   "execution_count": 3,
   "id": "621b1d04",
   "metadata": {},
   "outputs": [
    {
     "name": "stdout",
     "output_type": "stream",
     "text": [
      "Group 1 Mean:  2005_all_suicides    652.08\n",
      "2006_all_suicides    665.40\n",
      "2007_all_suicides    691.24\n",
      "2008_all_suicides    719.84\n",
      "2009_all_suicides    737.60\n",
      "2010_all_suicides    766.46\n",
      "2011_all_suicides    764.86\n",
      "dtype: float64\n",
      "Group 1 Standard Deviation:  2005_all_suicides    620.695766\n",
      "2006_all_suicides    634.284636\n",
      "2007_all_suicides    670.881616\n",
      "2008_all_suicides    705.123687\n",
      "2009_all_suicides    730.562194\n",
      "2010_all_suicides    739.179064\n",
      "2011_all_suicides    737.595608\n",
      "dtype: float64\n",
      "Group 2 Mean:  2005_vet_suicides    136.92\n",
      "2006_vet_suicides    130.02\n",
      "2007_vet_suicides    136.24\n",
      "2008_vet_suicides    143.40\n",
      "2009_vet_suicides    145.64\n",
      "2010_vet_suicides    145.00\n",
      "2011_vet_suicides    146.92\n",
      "dtype: float64\n",
      "Group 2 Standard Deviation:  2005_vet_suicides    133.012156\n",
      "2006_vet_suicides    132.267833\n",
      "2007_vet_suicides    133.634660\n",
      "2008_vet_suicides    143.308478\n",
      "2009_vet_suicides    145.188672\n",
      "2010_vet_suicides    141.944355\n",
      "2011_vet_suicides    142.682843\n",
      "dtype: float64\n",
      "F-statistic:  [32.27180796 33.45536299 32.25459083 31.44816569 30.94878965 33.4038518\n",
      " 33.15105287]\n",
      "p-value:  [1.37502611e-07 8.71762426e-08 1.38421842e-07 1.89329220e-07\n",
      " 2.30099836e-07 8.89141335e-08 9.79706844e-08]\n"
     ]
    },
    {
     "name": "stderr",
     "output_type": "stream",
     "text": [
      "C:\\Users\\bud_1\\anaconda3\\lib\\site-packages\\numpy\\core\\fromnumeric.py:3472: FutureWarning: In a future version, DataFrame.mean(axis=None) will return a scalar mean over the entire DataFrame. To retain the old behavior, use 'frame.mean(axis=0)' or just 'frame.mean()'\n",
      "  return mean(axis=axis, dtype=dtype, out=out, **kwargs)\n"
     ]
    }
   ],
   "source": [
    "import pandas as pd\n",
    "import numpy as np\n",
    "from scipy.stats import f_oneway\n",
    "\n",
    "# load data from combined_cleaned.csv\n",
    "df = pd.read_csv('combined_cleaned.csv')\n",
    "\n",
    "# create two groups based on the specified columns\n",
    "group1 = df[['2005_all_suicides', '2006_all_suicides', '2007_all_suicides', '2008_all_suicides', '2009_all_suicides', '2010_all_suicides', '2011_all_suicides']]\n",
    "group2 = df[['2005_vet_suicides', '2006_vet_suicides', '2007_vet_suicides', '2008_vet_suicides', '2009_vet_suicides', '2010_vet_suicides', '2011_vet_suicides']]\n",
    "\n",
    "# calculate the mean and standard deviation of each group\n",
    "group1_mean = np.mean(group1)\n",
    "group1_std = np.std(group1)\n",
    "group2_mean = np.mean(group2)\n",
    "group2_std = np.std(group2)\n",
    "\n",
    "# perform one-way ANOVA\n",
    "f_statistic, p_value = f_oneway(group1, group2)\n",
    "\n",
    "# print the mean and standard deviation of each group\n",
    "print('Group 1 Mean: ', group1_mean)\n",
    "print('Group 1 Standard Deviation: ', group1_std)\n",
    "print('Group 2 Mean: ', group2_mean)\n",
    "print('Group 2 Standard Deviation: ', group2_std)\n",
    "\n",
    "# print the F-statistic and p-value\n",
    "print('F-statistic: ', f_statistic)\n",
    "print('p-value: ', p_value)"
   ]
  },
  {
   "cell_type": "code",
   "execution_count": 4,
   "id": "5cf6e5a4",
   "metadata": {},
   "outputs": [
    {
     "name": "stdout",
     "output_type": "stream",
     "text": [
      "R-squared score on testing data: 1.0\n"
     ]
    }
   ],
   "source": [
    "import pandas as pd\n",
    "from sklearn.model_selection import train_test_split\n",
    "from sklearn.tree import DecisionTreeRegressor\n",
    "from sklearn.metrics import r2_score\n",
    "\n",
    "# Load the dataset\n",
    "data = pd.read_csv('updated_combined_cleaned.csv')\n",
    "\n",
    "# Split the dataset into training and testing sets\n",
    "train_data, test_data = train_test_split(data, test_size=0.2, random_state=42)\n",
    "\n",
    "# Select the features and target variables\n",
    "features = ['2005_all_suicides', '2006_all_suicides', '2007_all_suicides',\n",
    "            '2008_all_suicides', '2009_all_suicides', '2010_all_suicides', \n",
    "            '2011_all_suicides']\n",
    "target = ['2012_all_suicides', '2013_all_suicides']\n",
    "\n",
    "# Split the features and target variables for training and testing sets\n",
    "X_train = train_data[features]\n",
    "X_test = test_data[features]\n",
    "y_train = train_data[target]\n",
    "y_test = test_data[target]\n",
    "\n",
    "# Create a Decision Tree Regressor model\n",
    "dt_model = DecisionTreeRegressor(random_state=42)\n",
    "\n",
    "# Train the model on the training data\n",
    "dt_model.fit(X_train, y_train)\n",
    "\n",
    "# Make predictions on the testing data\n",
    "y_pred = dt_model.predict(X_test)\n",
    "\n",
    "# Evaluate the model's performance on the testing data\n",
    "r2score = r2_score(y_test, y_pred)\n",
    "print(\"R-squared score on testing data:\", r2score)\n"
   ]
  },
  {
   "cell_type": "code",
   "execution_count": 8,
   "id": "367d6c4e",
   "metadata": {
    "scrolled": true
   },
   "outputs": [
    {
     "name": "stdout",
     "output_type": "stream",
     "text": [
      "Cross-validation scores: [1. 1. 1. 1. 1. 1. 1. 1. 1. 1.]\n",
      "Average R-squared score: 1.0\n",
      "Mean squared error (MSE): 0.0\n",
      "Mean absolute error (MAE): 0.0\n"
     ]
    }
   ],
   "source": [
    "import numpy as np\n",
    "from sklearn.model_selection import cross_val_score, cross_val_predict\n",
    "from sklearn.linear_model import LinearRegression\n",
    "from sklearn.metrics import mean_squared_error, mean_absolute_error\n",
    "\n",
    "# Load the dataset\n",
    "data = pd.read_csv('updated_combined_cleaned.csv')\n",
    "\n",
    "# Select the features and target variables\n",
    "features = ['2005_all_suicides', '2006_all_suicides', '2007_all_suicides',\n",
    "            '2008_all_suicides', '2009_all_suicides', '2010_all_suicides', \n",
    "            '2011_all_suicides']\n",
    "target = ['2012_all_suicides', '2013_all_suicides']\n",
    "\n",
    "# Create a Linear Regression model\n",
    "lr_model = LinearRegression()\n",
    "\n",
    "# Perform 10-fold cross-validation\n",
    "scores = cross_val_score(lr_model, data[features], data[target], cv=10, scoring='r2')\n",
    "\n",
    "# Print the cross-validation scores and average R-squared score\n",
    "print(\"Cross-validation scores:\", scores)\n",
    "print(\"Average R-squared score:\", np.mean(scores))\n",
    "\n",
    "# Calculate and print mean squared error (MSE) and mean absolute error (MAE)\n",
    "y_pred = cross_val_predict(lr_model, data[features], data[target], cv=10)\n",
    "mse = mean_squared_error(data[target], y_pred)\n",
    "mae = mean_absolute_error(data[target], y_pred)\n",
    "print(\"Mean squared error (MSE):\", mse)\n",
    "print(\"Mean absolute error (MAE):\", mae)\n"
   ]
  },
  {
   "cell_type": "code",
   "execution_count": 6,
   "id": "bbeb1b64",
   "metadata": {},
   "outputs": [
    {
     "name": "stdout",
     "output_type": "stream",
     "text": [
      "R-squared score on testing data: 1.0\n"
     ]
    }
   ],
   "source": [
    "import pandas as pd\n",
    "from sklearn.model_selection import train_test_split\n",
    "from sklearn.tree import DecisionTreeRegressor\n",
    "from sklearn.metrics import r2_score\n",
    "\n",
    "# Load the dataset\n",
    "data = pd.read_csv('updated_combined_cleaned.csv')\n",
    "\n",
    "# Split the dataset into training and testing sets\n",
    "train_data, test_data = train_test_split(data, test_size=0.2, random_state=42)\n",
    "\n",
    "# Select the features and target variables\n",
    "features = ['2005_vet_suicides', '2006_vet_suicides', '2007_vet_suicides',\n",
    "            '2008_vet_suicides', '2009_vet_suicides', '2010_vet_suicides', \n",
    "            '2011_vet_suicides']\n",
    "target = ['2012_vet_suicides', '2013_vet_suicides']\n",
    "\n",
    "# Split the features and target variables for training and testing sets\n",
    "X_train = train_data[features]\n",
    "X_test = test_data[features]\n",
    "y_train = train_data[target]\n",
    "y_test = test_data[target]\n",
    "\n",
    "# Create a Decision Tree Regressor model\n",
    "dt_model = DecisionTreeRegressor(random_state=42)\n",
    "\n",
    "# Train the model on the training data\n",
    "dt_model.fit(X_train, y_train)\n",
    "\n",
    "# Make predictions on the testing data\n",
    "y_pred = dt_model.predict(X_test)\n",
    "\n",
    "# Evaluate the model's performance on the testing data\n",
    "r2score = r2_score(y_test, y_pred)\n",
    "print(\"R-squared score on testing data:\", r2score)"
   ]
  },
  {
   "cell_type": "code",
   "execution_count": 9,
   "id": "125eae2d",
   "metadata": {},
   "outputs": [
    {
     "name": "stdout",
     "output_type": "stream",
     "text": [
      "Cross-validation scores: [1. 1. 1. 1. 1. 1. 1. 1. 1. 1.]\n",
      "Average R-squared score: 1.0\n",
      "Mean squared error (MSE): 0.0\n",
      "Mean absolute error (MAE): 0.0\n"
     ]
    }
   ],
   "source": [
    "import numpy as np\n",
    "from sklearn.model_selection import cross_val_score, cross_val_predict\n",
    "from sklearn.linear_model import LinearRegression\n",
    "from sklearn.metrics import mean_squared_error, mean_absolute_error\n",
    "\n",
    "# Load the dataset\n",
    "data = pd.read_csv('updated_combined_cleaned.csv')\n",
    "\n",
    "# Select the features and target variables\n",
    "features = ['2005_vet_suicides', '2006_vet_suicides', '2007_vet_suicides',\n",
    "            '2008_vet_suicides', '2009_vet_suicides', '2010_vet_suicides', \n",
    "            '2011_all_suicides']\n",
    "target = ['2012_vet_suicides', '2013_vet_suicides']\n",
    "\n",
    "# Create a Linear Regression model\n",
    "lr_model = LinearRegression()\n",
    "\n",
    "# Perform 10-fold cross-validation\n",
    "scores = cross_val_score(lr_model, data[features], data[target], cv=10, scoring='r2')\n",
    "\n",
    "# Print the cross-validation scores and average R-squared score\n",
    "print(\"Cross-validation scores:\", scores)\n",
    "print(\"Average R-squared score:\", np.mean(scores))\n",
    "\n",
    "# Calculate and print mean squared error (MSE) and mean absolute error (MAE)\n",
    "y_pred = cross_val_predict(lr_model, data[features], data[target], cv=10)\n",
    "mse = mean_squared_error(data[target], y_pred)\n",
    "mae = mean_absolute_error(data[target], y_pred)\n",
    "print(\"Mean squared error (MSE):\", mse)\n",
    "print(\"Mean absolute error (MAE):\", mae)"
   ]
  },
  {
   "cell_type": "code",
   "execution_count": null,
   "id": "6bcad943",
   "metadata": {},
   "outputs": [],
   "source": []
  }
 ],
 "metadata": {
  "kernelspec": {
   "display_name": "Python 3 (ipykernel)",
   "language": "python",
   "name": "python3"
  },
  "language_info": {
   "codemirror_mode": {
    "name": "ipython",
    "version": 3
   },
   "file_extension": ".py",
   "mimetype": "text/x-python",
   "name": "python",
   "nbconvert_exporter": "python",
   "pygments_lexer": "ipython3",
   "version": "3.9.12"
  }
 },
 "nbformat": 4,
 "nbformat_minor": 5
}
